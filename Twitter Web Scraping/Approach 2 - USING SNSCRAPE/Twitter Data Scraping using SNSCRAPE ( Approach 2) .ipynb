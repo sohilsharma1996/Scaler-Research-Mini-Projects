{
 "cells": [
  {
   "cell_type": "code",
   "execution_count": null,
   "id": "40ff96e9",
   "metadata": {},
   "outputs": [],
   "source": [
    "#pip install Selenium"
   ]
  },
  {
   "cell_type": "code",
   "execution_count": null,
   "id": "3804caef",
   "metadata": {},
   "outputs": [],
   "source": [
    "#pip install twitter-scraper-selenium"
   ]
  },
  {
   "cell_type": "code",
   "execution_count": 11,
   "id": "5d88052e",
   "metadata": {},
   "outputs": [],
   "source": [
    "from twitter_scraper_selenium import scrape_keyword"
   ]
  },
  {
   "cell_type": "code",
   "execution_count": 12,
   "id": "f02a8cdd",
   "metadata": {},
   "outputs": [
    {
     "name": "stderr",
     "output_type": "stream",
     "text": [
      "[WDM] - Current google-chrome version is 106.0.5249\n",
      "[WDM] - Get LATEST driver version for 106.0.5249\n"
     ]
    },
    {
     "name": "stdout",
     "output_type": "stream",
     "text": [
      " \n"
     ]
    },
    {
     "name": "stderr",
     "output_type": "stream",
     "text": [
      "[WDM] - Driver [C:\\Users\\ehhosas\\.wdm\\drivers\\chromedriver\\win32\\106.0.5249.61\\chromedriver.exe] found in cache\n",
      "2022-11-06 17:23:19,985 - INFO - Data Successfully Saved to india.csv\n"
     ]
    }
   ],
   "source": [
    "scrape_keyword(keyword=\"india\", browser=\"chrome\", tweets_count=10, until=\"2022-08-31\", since=\"2022-08-30\",output_format=\"csv\",filename=\"india\")"
   ]
  },
  {
   "cell_type": "code",
   "execution_count": 13,
   "id": "1a17b3f1",
   "metadata": {},
   "outputs": [],
   "source": [
    "# scrape_keyword(keyword=\"ICC\", browser=\"chrome\", tweets_count=5000, until=\"2022-11-06\", since=\"2002-11-06\",output_format=\"csv\",filename=\"ICC 5000 Tweets\", headless = False)"
   ]
  },
  {
   "cell_type": "code",
   "execution_count": 14,
   "id": "5de17c75",
   "metadata": {},
   "outputs": [],
   "source": [
    "# scrape_keyword(keyword=\"covid\", browser=\"chrome\", tweets_count=5000, until=\"2022-11-06\", since=\"2020-03-01\",output_format=\"csv\",filename=\"COVID 5000 Tweets\", headless = False)"
   ]
  },
  {
   "cell_type": "code",
   "execution_count": 1,
   "id": "3fe1f47d",
   "metadata": {},
   "outputs": [],
   "source": [
    "import numpy as np\n",
    "import pandas as pd\n",
    "import warnings\n",
    "warnings.filterwarnings(\"ignore\")"
   ]
  },
  {
   "cell_type": "code",
   "execution_count": 8,
   "id": "28c4da27",
   "metadata": {},
   "outputs": [],
   "source": [
    "# pip install snscrape"
   ]
  },
  {
   "cell_type": "code",
   "execution_count": 2,
   "id": "d18b97fa",
   "metadata": {},
   "outputs": [],
   "source": [
    "import snscrape.modules.twitter as sntwitter"
   ]
  },
  {
   "cell_type": "code",
   "execution_count": 3,
   "id": "86f414e6",
   "metadata": {},
   "outputs": [],
   "source": [
    "# Created a list to append all tweet attributes(data)\n",
    "attributes_container = []"
   ]
  },
  {
   "cell_type": "code",
   "execution_count": 6,
   "id": "bdac66a9",
   "metadata": {},
   "outputs": [],
   "source": [
    "# Using TwitterSearchScraper to scrape data and append tweets to list\n",
    "\n",
    "input = '(covid OR covid-19 OR coronavirus OR covaxin OR covishield) lang:en until:2022-11-06 since:2020-01-01'\n",
    "for i,tweet in enumerate(sntwitter.TwitterSearchScraper(input).get_items()):\n",
    "    if i > 5000:\n",
    "        break\n",
    "    attributes_container.append([tweet.date, tweet.likeCount, tweet.sourceLabel, tweet.content])\n",
    "\n",
    "# Creating a dataframe from the tweets list above \n",
    "tweets_df = pd.DataFrame(attributes_container, columns=[\"Date Created\", \"Number of Likes\", \"Source of Tweet\", \"Tweets\"])"
   ]
  },
  {
   "cell_type": "code",
   "execution_count": 10,
   "id": "99538d09",
   "metadata": {},
   "outputs": [],
   "source": [
    "tweets_df.to_csv(\"COVID 5000 Tweets Data.csv\")"
   ]
  }
 ],
 "metadata": {
  "kernelspec": {
   "display_name": "Python 3 (ipykernel)",
   "language": "python",
   "name": "python3"
  },
  "language_info": {
   "codemirror_mode": {
    "name": "ipython",
    "version": 3
   },
   "file_extension": ".py",
   "mimetype": "text/x-python",
   "name": "python",
   "nbconvert_exporter": "python",
   "pygments_lexer": "ipython3",
   "version": "3.9.7"
  }
 },
 "nbformat": 4,
 "nbformat_minor": 5
}
